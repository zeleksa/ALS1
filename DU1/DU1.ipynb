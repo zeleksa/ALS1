{
 "metadata": {
  "language_info": {
   "codemirror_mode": {
    "name": "ipython",
    "version": 3
   },
   "file_extension": ".py",
   "mimetype": "text/x-python",
   "name": "python",
   "nbconvert_exporter": "python",
   "pygments_lexer": "ipython3",
   "version": "3.8.5-final"
  },
  "orig_nbformat": 2,
  "kernelspec": {
   "name": "python38564bitb60adf78ae6b40c89cf5e48c4e84384f",
   "display_name": "Python 3.8.5 64-bit"
  }
 },
 "nbformat": 4,
 "nbformat_minor": 2,
 "cells": [
  {
   "cell_type": "code",
   "execution_count": 42,
   "metadata": {},
   "outputs": [],
   "source": [
    "class Node:\n",
    "    def __init__(self, data):\n",
    "        self.left = None\n",
    "        self.right = None\n",
    "        self.data = data\n",
    "\n",
    "def insert(node, data):\n",
    "    if node is None or node.data is None:\n",
    "        return Node(data)\n",
    "    if data < node.data:\n",
    "        node.left = insert(node.left, data)\n",
    "    if data > node.data:\n",
    "        node.right = insert(node.right, data)\n",
    "    return node\n",
    "\n",
    "def findMin(node):\n",
    "    if node.left is None:\n",
    "        return node.data\n",
    "    findMin(node.left)\n",
    "\n",
    "def delete(node, data):\n",
    "    if node is None:\n",
    "        return Node\n",
    "    if data < node.data:\n",
    "        node.left = delete(node.left, data)\n",
    "    elif data > node.data:\n",
    "        node.right = delete(node.right, data)\n",
    "    else:\n",
    "        if node.left is None and node.right is None:\n",
    "            return None\n",
    "        if node.left is None:\n",
    "            tmp = node.right\n",
    "            node = None\n",
    "            return tmp\n",
    "        if node.right is None:\n",
    "            tmp = node.left\n",
    "            node = None\n",
    "            return tmp\n",
    "        \n",
    "        minimum = findMin(node.right)\n",
    "        node.data = minimum\n",
    "        delete(minimum, node.right)\n",
    "\n",
    "    return node\n",
    "\n",
    "def inorder(node):\n",
    "    if node.left:\n",
    "        inorder(node.left)\n",
    "    print(node.data)\n",
    "    if node.right:\n",
    "        inorder(node.right)\n",
    "\n",
    "def treeHeight(node):\n",
    "    if node is None:\n",
    "        return 0\n",
    "    if node.left is None and node.right is None:\n",
    "        return 1\n",
    "    if node.left is None:\n",
    "        return 1 + treeHeight(node.right)\n",
    "    if node.right is None:\n",
    "        return 1 + treeHeight(node.left)\n",
    "    else:\n",
    "        return 1 + max(treeHeight(node.left), treeHeight(node.right))\n",
    "\n"
   ]
  },
  {
   "cell_type": "code",
   "execution_count": 44,
   "metadata": {
    "tags": []
   },
   "outputs": [
    {
     "output_type": "stream",
     "name": "stdout",
     "text": "3\n6\n8\n10\n12\n13\n4\n\n3\n6\n10\n12\n13\n3\n"
    }
   ],
   "source": [
    "root = None\n",
    "root = insert(root, 10)\n",
    "root = insert(root, 3)\n",
    "root = insert(root, 12)\n",
    "root = insert(root, 6)\n",
    "root = insert(root, 8)\n",
    "root = insert(root, 13)\n",
    "inorder(root)\n",
    "print(treeHeight(root))\n",
    "print()\n",
    "root = delete(root, 8)\n",
    "inorder(root)\n",
    "print(treeHeight(root))"
   ]
  },
  {
   "cell_type": "code",
   "execution_count": 46,
   "metadata": {},
   "outputs": [
    {
     "output_type": "error",
     "ename": "ModuleNotFoundError",
     "evalue": "No module named 'numpy'",
     "traceback": [
      "\u001b[0;31m---------------------------------------------------------------------------\u001b[0m",
      "\u001b[0;31mModuleNotFoundError\u001b[0m                       Traceback (most recent call last)",
      "\u001b[0;32m<ipython-input-46-0aa0b027fcb6>\u001b[0m in \u001b[0;36m<module>\u001b[0;34m\u001b[0m\n\u001b[0;32m----> 1\u001b[0;31m \u001b[0;32mimport\u001b[0m \u001b[0mnumpy\u001b[0m \u001b[0;32mas\u001b[0m \u001b[0mnp\u001b[0m\u001b[0;34m\u001b[0m\u001b[0;34m\u001b[0m\u001b[0m\n\u001b[0m",
      "\u001b[0;31mModuleNotFoundError\u001b[0m: No module named 'numpy'"
     ]
    }
   ],
   "source": [
    "import numpy as np"
   ]
  },
  {
   "cell_type": "code",
   "execution_count": null,
   "metadata": {},
   "outputs": [],
   "source": []
  }
 ]
}